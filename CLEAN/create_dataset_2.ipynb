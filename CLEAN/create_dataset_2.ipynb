{
 "cells": [
  {
   "cell_type": "code",
   "execution_count": 13,
   "id": "7d1f3172",
   "metadata": {},
   "outputs": [],
   "source": [
    "from datasets import load_from_disk\n",
    "from datasets import Dataset, DatasetDict"
   ]
  },
  {
   "cell_type": "markdown",
   "id": "819d24d9",
   "metadata": {},
   "source": [
    "## Opening Dataset + Prompt"
   ]
  },
  {
   "cell_type": "code",
   "execution_count": 36,
   "id": "a3422d80",
   "metadata": {},
   "outputs": [],
   "source": [
    "def generate_training_prompt_opening(regulatory: str, text: str, triples: str) -> str:\n",
    "    return f\"\"\"\n",
    "Diberikan sebuah prompt yang dibatasi oleh tiga backticks, lakukan tindakan berikut:\n",
    "- identifikasi sebanyak mungkin relation di antara entity\n",
    "- keluarkan daftar dalam format triple turtle ENTITY 1 RELATION 1 OBJECT 1/ENTITY 2 .\n",
    "\n",
    "Tipe entity paling penting adalah:\n",
    "- lexid-s:LegalDocument, contoh: lexid:Permen_Agama_2019_17\n",
    "- lexid-s:Position, contoh: lexid:Position_Menteri_Agama_Republik_Indonesia\n",
    "\n",
    "Relation paling penting adalah:\n",
    "- lexid-s:regulationNumber, yaitu nomor dari peraturan tersebut, contoh: lexid:PP_2019_4 lexid-s:regulationNumber \"12\"^^xsd:string .\n",
    "- lexid-s:regulationYear, yaitu tahun dari peraturan tersebut, contoh: lexid:PP_2019_4 lexid-s:regulationNumber \"2019\"^^xsd:string .\n",
    "- lexid-s:considers, yaitu apa pertimbangan dari peraturan tersebut (ada di Menimbang), contoh: lexid:PP_2019_4 lexid-s:considers \"bahwa berdasarkan pertimbangan sebagaimana dimaksud dalam huruf a, perlu menetapkan Peraturan Pemerintah tentang Badan Perlindungan Konsumen Nasional\"^^xsd:string .\n",
    "- lexid-s:hasLegalBasis, yaitu peraturan apa yang menjadi dasar dari peraturan tersebut (ada di Mengingat), contoh: lexid:PP_2019_4 lexid-s:hasLegalBasis lexid:UU_1999_8 .\n",
    "- lexid-s:LegalBasisOf, yaitu invers dari lexid-s:hasLegalBasis, contoh: lexid:UU_1999_8 lexid-s:LegalBasisOf contoh: lexid:PP_2019_4 .\n",
    "- lexid-s:hasDictum, yaitu pernyataan tentang peraturan (ada di Menetapkan), contoh: lexid:PP_2019_4 lexid-s:hasDictum \"Menetapkan : PERATURAN PEMERINTAH TENTANG BADAN PERLINDUNGAN KONSUMEN NASIONAL.\"^^xsd:string .\n",
    "- lexid-s:hasCreator, yaitu siapa yang membuat peraturan tersebut, contoh: lexid:PP_2019_4 lexid-s:hasCreator lexid:Position_Badan_Perlindungan_Konsumen_Nasional_Dengan_Rahmat_Tuhan_Yang_Maha_Esa_Presiden_Republik_Indonesia .\n",
    "\n",
    "Contoh:\n",
    "###regulatory: lexid:PP_2019_4\n",
    "###prompt: \n",
    "```\n",
    "LEMBARAN NEGARA\n",
    "REPUBLIK INDONESIA\n",
    "No.12, 2019 KESRA. Badan Perlindungan. Konsumen Nasional.\n",
    "(Penjelasan dalam Tambahan Lembaran Negara\n",
    "Republik Indonesia Nomor 6306)\n",
    "\n",
    "PERATURAN PEMERINTAH REPUBLIK INDONESIA\n",
    "NOMOR 4 TAHUN 2019\n",
    "TENTANG\n",
    "BADAN PERLINDUNGAN KONSUMEN NASIONAL\n",
    "\n",
    "DENGAN RAHMAT TUHAN YANG MAHA ESA\n",
    "\n",
    "PRESIDEN REPUBLIK INDONESIA,\n",
    "\n",
    "\n",
    "Menimbang : a. bahwa untuk mendukung pelaksanaan tugas dan\n",
    "wewenang Badan Perlindungan Konsumen Nasional,\n",
    "perlu mengatur kembali Peraturan Pemerintah Nomor\n",
    "57 Tahun 2001 tentang Badan Perlindungan Konsumen\n",
    "Nasional;\n",
    "  b. bahwa berdasarkan pertimbangan sebagaimana\n",
    "dimaksud dalam huruf a, perlu menetapkan Peraturan\n",
    "Pemerintah tentang Badan Perlindungan Konsumen\n",
    "Nasional;\n",
    "\n",
    "Mengingat : 1. Pasal 5 ayat (2) Undang-Undang Dasar Negara Republik\n",
    "Indonesia Tahun 1945;\n",
    "  2. Undang-Undang Nomor 8 Tahun 1999 tentang\n",
    "Perlindungan Konsumen (Lembaran Negara Republik\n",
    "Indonesia Tahun 1999 Nomor 22, Tambahan Lembaran\n",
    "Negara Republik Indonesia Nomor 3821);\n",
    "\n",
    "MEMUTUSKAN:\n",
    "\n",
    "Menetapkan : PERATURAN PEMERINTAH TENTANG BADAN\n",
    "PERLINDUNGAN KONSUMEN NASIONAL.\n",
    "\n",
    "\n",
    "www.peraturan.go.id\n",
    "2019, No.12 -2-\n",
    "BAB I\n",
    "KETENTUAN UMUM\n",
    "```\n",
    "###output:\n",
    "lexid:PP_2019_4 rdfs:label \"Peraturan Pemerintah Republik Indonesia Nomor 4 Tahun 2019\"^^xsd:string .\n",
    "lexid:PP_2019_4 lexid-s:name \"\"^^xsd:string .\n",
    "lexid:UU_1999_8 lexid-s:LegalBasisOf lexid:PP_2019_4 .\n",
    "lexid:PP_2019_4 lexid-s:regulationNumber \"4\"^^xsd:string .\n",
    "lexid:UUD_1945 rdf:type lexid-s:LegalDocument .\n",
    "lexid:PP_2019_4 lexid-s:considers \"bahwa untuk mendukung pelaksanaan tugas dan wewenang Badan Perlindungan Konsumen Nasional, perlu mengatur kembali Peraturan Pemerintah Nomor 57 Tahun 2001 tentang Badan Perlindungan Konsumen Nasional\"^^xsd:string .\n",
    "lexid:UU_1999_8 rdfs:label \"Undang-Undang Republik Indonesia Nomor 8 Tahun 1999\"^^xsd:string .\n",
    "lexid:PP_2019_4 lexid-s:considers \"bahwa berdasarkan pertimbangan sebagaimana dimaksud dalam huruf a, perlu menetapkan Peraturan Pemerintah tentang Badan Perlindungan Konsumen Nasional\"^^xsd:string .\n",
    "lexid:PP_2019_4 lexid-s:hasLegalBasis lexid:UU_1999_8 .\n",
    "lexid:Position_Badan_Perlindungan_Konsumen_Nasional_Dengan_Rahmat_Tuhan_Yang_Maha_Esa_Presiden_Republik_Indonesia rdf:type lexid-s:Position .\n",
    "lexid:UUD_1945 rdfs:label \"Undang-Undang Dasar Negara Republik Indonesia  Tahun 1945\"^^xsd:string .\n",
    "lexid:UU_1999_8 rdf:type lexid-s:LegalDocument .\n",
    "lexid:PP_2019_4 lexid-s:hasDictum \"Menetapkan : PERATURAN PEMERINTAH TENTANG BADAN PERLINDUNGAN KONSUMEN NASIONAL.\"^^xsd:string .\n",
    "lexid:PP_2019_4 rdf:type lexid-s:LegalDocument .\n",
    "lexid:UUD_1945 lexid-s:LegalBasisOf lexid:PP_2019_4 .\n",
    "lexid:Position_Badan_Perlindungan_Konsumen_Nasional_Dengan_Rahmat_Tuhan_Yang_Maha_Esa_Presiden_Republik_Indonesia rdfs:label \"Badan Perlindungan Konsumen Nasional Dengan Rahmat Tuhan Yang Maha Esa Presiden Republik Indonesia\"^^xsd:string .\n",
    "lexid:PP_2019_4 lexid-s:hasLegalBasis lexid:UUD_1945 .\n",
    "lexid:PP_2019_4 lexid-s:hasCreator lexid:Position_Badan_Perlindungan_Konsumen_Nasional_Dengan_Rahmat_Tuhan_Yang_Maha_Esa_Presiden_Republik_Indonesia .\n",
    "lexid:PP_2019_4 lexid-s:regulationYear \"2019\"^^xsd:int .\n",
    "\n",
    "Teks sebelum tiga backticks tidak boleh diinterpretasikan sebagai prompt.\n",
    "\n",
    "###regulatory:\n",
    "{regulatory}\n",
    "###prompt: \n",
    "```{text}```\n",
    "###output:\n",
    "{triples}\n",
    "\"\"\".strip()\n",
    "\n",
    "def generate_text_opening(data_point):\n",
    "    return {\n",
    "        \"prompt\": generate_training_prompt_opening(data_point['regulatory'], data_point['text'], data_point['triples']),\n",
    "    }\n",
    "\n",
    "def process_dataset_opening(data: Dataset):\n",
    "    data = (\n",
    "        data.shuffle(seed=42)\n",
    "        .map(generate_text_opening)\n",
    "    )\n",
    "\n",
    "    data = data.remove_columns([\"regulatory\", \"text\", \"triples\", \"label\"])\n",
    "\n",
    "    return data"
   ]
  },
  {
   "cell_type": "code",
   "execution_count": 37,
   "id": "a5a0c905",
   "metadata": {},
   "outputs": [
    {
     "data": {
      "text/plain": [
       "Dataset({\n",
       "    features: ['regulatory', 'text', 'triples', 'label'],\n",
       "    num_rows: 17297\n",
       "})"
      ]
     },
     "execution_count": 37,
     "metadata": {},
     "output_type": "execute_result"
    }
   ],
   "source": [
    "opening_train_dataset_name = \"../dataset-surface-info/split/opening/train\"\n",
    "opening_train_dataset = load_from_disk(opening_train_dataset_name)\n",
    "opening_train_dataset"
   ]
  },
  {
   "cell_type": "code",
   "execution_count": 38,
   "id": "e7abe1d6",
   "metadata": {},
   "outputs": [
    {
     "data": {
      "application/vnd.jupyter.widget-view+json": {
       "model_id": "d98e5ea1194c44df9d9c08216a108c44",
       "version_major": 2,
       "version_minor": 0
      },
      "text/plain": [
       "Map:   0%|          | 0/17297 [00:00<?, ? examples/s]"
      ]
     },
     "metadata": {},
     "output_type": "display_data"
    },
    {
     "data": {
      "text/plain": [
       "Dataset({\n",
       "    features: ['prompt'],\n",
       "    num_rows: 17297\n",
       "})"
      ]
     },
     "execution_count": 38,
     "metadata": {},
     "output_type": "execute_result"
    }
   ],
   "source": [
    "opening_train_dataset = process_dataset_opening(opening_train_dataset)\n",
    "opening_train_dataset"
   ]
  },
  {
   "cell_type": "code",
   "execution_count": 39,
   "id": "38219e8e",
   "metadata": {},
   "outputs": [
    {
     "data": {
      "text/plain": [
       "Dataset({\n",
       "    features: ['regulatory', 'text', 'triples', 'label'],\n",
       "    num_rows: 2163\n",
       "})"
      ]
     },
     "execution_count": 39,
     "metadata": {},
     "output_type": "execute_result"
    }
   ],
   "source": [
    "opening_test_dataset_name = \"../dataset-surface-info/split/opening/test\"\n",
    "opening_test_dataset = load_from_disk(opening_test_dataset_name)\n",
    "opening_test_dataset"
   ]
  },
  {
   "cell_type": "code",
   "execution_count": 40,
   "id": "bc9c7e35",
   "metadata": {},
   "outputs": [
    {
     "data": {
      "application/vnd.jupyter.widget-view+json": {
       "model_id": "e40d1e90d2d249a9ab36295fafcf9c34",
       "version_major": 2,
       "version_minor": 0
      },
      "text/plain": [
       "Map:   0%|          | 0/2163 [00:00<?, ? examples/s]"
      ]
     },
     "metadata": {},
     "output_type": "display_data"
    },
    {
     "data": {
      "text/plain": [
       "Dataset({\n",
       "    features: ['prompt'],\n",
       "    num_rows: 2163\n",
       "})"
      ]
     },
     "execution_count": 40,
     "metadata": {},
     "output_type": "execute_result"
    }
   ],
   "source": [
    "opening_test_dataset = process_dataset_opening(opening_test_dataset)\n",
    "opening_test_dataset"
   ]
  },
  {
   "cell_type": "code",
   "execution_count": 41,
   "id": "d34ac6d5",
   "metadata": {},
   "outputs": [
    {
     "data": {
      "text/plain": [
       "Dataset({\n",
       "    features: ['regulatory', 'text', 'triples', 'label'],\n",
       "    num_rows: 2162\n",
       "})"
      ]
     },
     "execution_count": 41,
     "metadata": {},
     "output_type": "execute_result"
    }
   ],
   "source": [
    "opening_val_dataset_name = \"../dataset-surface-info/split/opening/val\"\n",
    "opening_val_dataset = load_from_disk(opening_val_dataset_name)\n",
    "opening_val_dataset"
   ]
  },
  {
   "cell_type": "code",
   "execution_count": 42,
   "id": "b64e662b",
   "metadata": {},
   "outputs": [
    {
     "data": {
      "application/vnd.jupyter.widget-view+json": {
       "model_id": "3ad2b662a3734a3fbce58b4c32de4948",
       "version_major": 2,
       "version_minor": 0
      },
      "text/plain": [
       "Map:   0%|          | 0/2162 [00:00<?, ? examples/s]"
      ]
     },
     "metadata": {},
     "output_type": "display_data"
    },
    {
     "data": {
      "text/plain": [
       "Dataset({\n",
       "    features: ['prompt'],\n",
       "    num_rows: 2162\n",
       "})"
      ]
     },
     "execution_count": 42,
     "metadata": {},
     "output_type": "execute_result"
    }
   ],
   "source": [
    "opening_val_dataset = process_dataset_opening(opening_val_dataset)\n",
    "opening_val_dataset"
   ]
  },
  {
   "cell_type": "code",
   "execution_count": 43,
   "id": "697e014a",
   "metadata": {},
   "outputs": [
    {
     "data": {
      "application/vnd.jupyter.widget-view+json": {
       "model_id": "bdc852ade6b64c0b844f36ad8f26de0f",
       "version_major": 2,
       "version_minor": 0
      },
      "text/plain": [
       "Saving the dataset (0/1 shards):   0%|          | 0/17297 [00:00<?, ? examples/s]"
      ]
     },
     "metadata": {},
     "output_type": "display_data"
    },
    {
     "data": {
      "application/vnd.jupyter.widget-view+json": {
       "model_id": "75e6fdda57dc423a83741ab9bfeb9cfb",
       "version_major": 2,
       "version_minor": 0
      },
      "text/plain": [
       "Saving the dataset (0/1 shards):   0%|          | 0/2163 [00:00<?, ? examples/s]"
      ]
     },
     "metadata": {},
     "output_type": "display_data"
    },
    {
     "data": {
      "application/vnd.jupyter.widget-view+json": {
       "model_id": "1e6f1d5e58c649c8b87ff104e5fd5843",
       "version_major": 2,
       "version_minor": 0
      },
      "text/plain": [
       "Saving the dataset (0/1 shards):   0%|          | 0/2162 [00:00<?, ? examples/s]"
      ]
     },
     "metadata": {},
     "output_type": "display_data"
    }
   ],
   "source": [
    "opening_train_dataset.save_to_disk(f'../dataset-surface-info/prompt/opening/train')\n",
    "opening_test_dataset.save_to_disk(f'../dataset-surface-info/prompt/opening/test')\n",
    "opening_val_dataset.save_to_disk(f'../dataset-surface-info/prompt/opening/val')"
   ]
  },
  {
   "cell_type": "markdown",
   "id": "571b3422",
   "metadata": {},
   "source": [
    "## Closing Dataset + Prompt"
   ]
  },
  {
   "cell_type": "code",
   "execution_count": 14,
   "id": "f61d6f88",
   "metadata": {},
   "outputs": [],
   "source": [
    "def generate_prompt_closing(regulatory: str, text: str) -> str:\n",
    "    return f\"\"\"\n",
    "Anda adalah pembuat knowledge graph. Anda akan diberikan entity regulatory dan teks, dari teks tersebut lakukan tindakan berikut:\n",
    "- identifikasi sebanyak mungkin relation di antara entity\n",
    "- keluarkan daftar dalam format triple turtle ENTITY 1 RELATION 1 OBJECT 1/ENTITY 2 .\n",
    "\n",
    "Tipe entity paling penting adalah:\n",
    "- lexid-s:LegalDocument, contoh: lexid:Permen_Agama_2019_17\n",
    "- lexid-s:Person, contoh: lexid:Person_Joko_Widodo\n",
    "- lexid-s:Position, contoh: lexid:Position_Menteri_Agama_Republik_Indonesia\n",
    "- lexid-s:City, contoh: lexid:City_Depok\n",
    "\n",
    "Relation paling penting adalah:\n",
    "- lexid-s:hasEnactionDate, yaitu kapan peraturan tersebut ditetapkan, contoh: lexid:PP_2019_4 lexid-s:hasEnactionDate \"2019-01-28\"^^xsd:date.\n",
    "- lexid-s:hasEnactionLocation, yaitu dimana peraturan tersebut ditetapkan, contoh: lexid:PP_2019_4 lexid-s:hasEnactionLocation lexid:City_Jakarta.\n",
    "- lexid-s:hasEnactionOfficial, yaitu siapa nama orang yang menetapkan peraturan tersebut, contoh: lexid:PP_2019_4 lexid-s:hasEnactionOfficial lexid:Person_Joko_Widodo.\n",
    "- lexid-s:hasEnactionOffice, yaitu apa jabatan dari orang yang menetapkan peraturan tersebut, contoh: lexid:PP_2019_4 lexid-s:hasEnactionOffice lexid:Position_Presiden_Republik_Indonesia.\n",
    "- lexid-s:hasPromulgationDate, yaitu kapan peraturan tersebut diudangkan, contoh: lexid:PP_2019_4 lexid-s:hasPromulgationDate \"2019-01-28\"^^xsd:date.\n",
    "- lexid-s:hasPromulgationLocation, yaitu dimana peraturan tersebut diundangkan, contoh: lexid:PP_2019_4 lexid-s:hasPromulgationLocation lexid:City_Jakarta.\n",
    "- lexid-s:hasPromulgationOfficial, yaitu siapa nama orang yang mengundangkan peraturan tersebut, contoh: lexid:PP_2019_4 lexid-s:hasPromulgationOfficial lexid:Person_Yasonna_H_Laolly.\n",
    "- lexid-s:hasPromulgationOffice, yaitu apa jabatan dari orang yang mengundangkan peraturan tersebut, contoh: lexid:PP_2019_4 lexid-s:hasPromulgationOffice lexid:Position_Menteri_Hukum_Dan_Hak_Asasi_Manusia_Republik_Indonesia.\n",
    "- lexid-s:hasPromulgationPlace, yaitu dimana pengundangan peraturan tersebut ditempatkan, contoh: lexid:PP_2019_4 lexid-s:hasPromulgationPlace lexid:Lembaran_Negara.\n",
    "\n",
    "JANGAN UBAH APAPUN YANG ADA PADA TEKS. GUNAKAN BAHASA INDONESIA SEPERTI YANG ADA PADA TEKS.\n",
    "JANGAN UBAH RELATION ATAU MENAMBAHKAN RELATION BARU.\n",
    "\n",
    "Contoh:\n",
    "###regulatory: lexid:PP_2019_4\n",
    "###Teks: \n",
    "```\n",
    "Agar setiap orang mengetahuinya, memerintahkan\n",
    "pengundangan Peraturan Menteri ini dengan penempatannya\n",
    "dalam Berita Negara Republik Indonesia.\n",
    "\n",
    "Ditetapkan di Jakarta pada tanggal 23 Januari 2019\n",
    "\n",
    "PRESIDEN REPUBLIK INDONESIA,\n",
    "\n",
    "ttd\n",
    "\n",
    "JOKO WIDODO\n",
    "\n",
    "Diundangkan di Jakarta pada tanggal 28 Januari 2019\n",
    "\n",
    "MENTERI HUKUM DAN HAK ASASI MANUSIA REPUBLIK INDONESIA,\n",
    "\n",
    "ttd\n",
    "\n",
    "YASONNA H. LAOLLY\n",
    "```\n",
    "###output:\n",
    "\n",
    "lexid:PP_2019_4 lexid-s:hasEnactionDate \"2019-01-23\"^^xsd:date .\n",
    "lexid:PP_2019_4 lexid-s:hasEnactionLocation lexid:City_Jakarta .\n",
    "lexid:City_Jakarta rdf:type lexid-s:City .\n",
    "lexid:City_Jakarta rdfs:label \"Jakarta\"^^xsd:string .\n",
    "lexid:PP_2019_4 lexid-s:hasEnactionOfficial lexid:Person_Joko_Widodo .\n",
    "lexid:Person_Joko_Widodo rdfs:label \"Joko Widodo\"^^xsd:string .\n",
    "lexid:Person_Joko_Widodo rdf:type lexid-s:Person .\n",
    "lexid:PP_2019_4 lexid-s:hasEnactionOffice lexid:Position_Presiden_Republik_Indonesia .\n",
    "lexid:Position_Presiden_Republik_Indonesia rdfs:label \"Presiden Republik Indonesia\"^^xsd:string .\n",
    "lexid:Position_Presiden_Republik_Indonesia rdf:type lexid-s:Position .\n",
    "lexid:PP_2019_4 lexid-s:hasPromulgationDate \"2019-01-28\"^^xsd:date .\n",
    "lexid:PP_2019_4 lexid-s:hasPromulgationLocation lexid:City_Jakarta .\n",
    "lexid:City_Jakarta rdfs:label \"Jakarta\"^^xsd:string .\n",
    "lexid:PP_2019_4 lexid-s:hasPromulgationOfficial lexid:Person_Yasonna_H_Laolly .\n",
    "lexid:Person_Yasonna_H_Laolly rdfs:label \"Yasonna H Laolly\"^^xsd:string .\n",
    "lexid:Person_Yasonna_H_Laolly rdf:type lexid-s:Person .\n",
    "lexid:PP_2019_4 lexid-s:hasPromulgationOffice lexid:Position_Menteri_Hukum_Dan_Hak_Asasi_Manusia_Republik_Indonesia .\n",
    "lexid:Position_Menteri_Hukum_Dan_Hak_Asasi_Manusia_Republik_Indonesia rdfs:label \"Menteri Hukum Dan Hak Asasi Manusia Republik Indonesia\"^^xsd:string .\n",
    "lexid:Position_Menteri_Hukum_Dan_Hak_Asasi_Manusia_Republik_Indonesia rdf:type lexid-s:Position .\n",
    "lexid:PP_2019_4 lexid-s:hasPromulgationPlace lexid:Lembaran_Negara .\n",
    "\n",
    "###regulatory: lexid:{regulatory}\n",
    "###Teks: \n",
    "```\n",
    "{text}\n",
    "```\n",
    "###output:\n",
    "\"\"\".strip()\n",
    "\n",
    "def generate_text_closing(data_point):\n",
    "    return {\n",
    "        \"prompt\": generate_prompt_closing(data_point['regulatory'], data_point['text']),\n",
    "    }\n",
    "\n",
    "def process_dataset_closing(data: Dataset):\n",
    "    data = (\n",
    "        data.shuffle(seed=42)\n",
    "        .map(generate_text_closing)\n",
    "    )\n",
    "\n",
    "    data = data.remove_columns([\"regulatory\", \"text\"])\n",
    "\n",
    "    return data"
   ]
  },
  {
   "cell_type": "code",
   "execution_count": 15,
   "id": "87ec0564",
   "metadata": {},
   "outputs": [],
   "source": [
    "def generate_training_prompt_closing(regulatory: str, text: str, triples: str) -> str:\n",
    "    return f\"\"\"\n",
    "Anda adalah pembuat knowledge graph. Anda akan diberikan entity regulatory dan teks, dari teks tersebut lakukan tindakan berikut:\n",
    "- identifikasi sebanyak mungkin relation di antara entity\n",
    "- keluarkan daftar dalam format triple turtle ENTITY 1 RELATION 1 OBJECT 1/ENTITY 2 .\n",
    "\n",
    "Tipe entity paling penting adalah:\n",
    "- lexid-s:LegalDocument, contoh: lexid:Permen_Agama_2019_17\n",
    "- lexid-s:Person, contoh: lexid:Person_Joko_Widodo\n",
    "- lexid-s:Position, contoh: lexid:Position_Menteri_Agama_Republik_Indonesia\n",
    "- lexid-s:City, contoh: lexid:City_Depok\n",
    "\n",
    "Relation paling penting adalah:\n",
    "- lexid-s:hasEnactionDate, yaitu kapan peraturan tersebut ditetapkan, contoh: lexid:PP_2019_4 lexid-s:hasEnactionDate \"2019-01-28\"^^xsd:date.\n",
    "- lexid-s:hasEnactionLocation, yaitu dimana peraturan tersebut ditetapkan, contoh: lexid:PP_2019_4 lexid-s:hasEnactionLocation lexid:City_Jakarta.\n",
    "- lexid-s:hasEnactionOfficial, yaitu siapa nama orang yang menetapkan peraturan tersebut, contoh: lexid:PP_2019_4 lexid-s:hasEnactionOfficial lexid:Person_Joko_Widodo.\n",
    "- lexid-s:hasEnactionOffice, yaitu apa jabatan dari orang yang menetapkan peraturan tersebut, contoh: lexid:PP_2019_4 lexid-s:hasEnactionOffice lexid:Position_Presiden_Republik_Indonesia.\n",
    "- lexid-s:hasPromulgationDate, yaitu kapan peraturan tersebut diudangkan, contoh: lexid:PP_2019_4 lexid-s:hasPromulgationDate \"2019-01-28\"^^xsd:date.\n",
    "- lexid-s:hasPromulgationLocation, yaitu dimana peraturan tersebut diundangkan, contoh: lexid:PP_2019_4 lexid-s:hasPromulgationLocation lexid:City_Jakarta.\n",
    "- lexid-s:hasPromulgationOfficial, yaitu siapa nama orang yang mengundangkan peraturan tersebut, contoh: lexid:PP_2019_4 lexid-s:hasPromulgationOfficial lexid:Person_Yasonna_H_Laolly.\n",
    "- lexid-s:hasPromulgationOffice, yaitu apa jabatan dari orang yang mengundangkan peraturan tersebut, contoh: lexid:PP_2019_4 lexid-s:hasPromulgationOffice lexid:Position_Menteri_Hukum_Dan_Hak_Asasi_Manusia_Republik_Indonesia.\n",
    "- lexid-s:hasPromulgationPlace, yaitu dimana pengundangan peraturan tersebut ditempatkan, contoh: lexid:PP_2019_4 lexid-s:hasPromulgationPlace lexid:Lembaran_Negara.\n",
    "\n",
    "JANGAN UBAH APAPUN YANG ADA PADA TEKS. GUNAKAN BAHASA INDONESIA SEPERTI YANG ADA PADA TEKS.\n",
    "\n",
    "Contoh:\n",
    "###regulatory: lexid:PP_2019_4\n",
    "###Teks: \n",
    "```\n",
    "Agar setiap orang mengetahuinya, memerintahkan\n",
    "pengundangan Peraturan Menteri ini dengan penempatannya\n",
    "dalam Berita Negara Republik Indonesia.\n",
    "\n",
    "Ditetapkan di Jakarta pada tanggal 23 Januari 2019\n",
    "\n",
    "PRESIDEN REPUBLIK INDONESIA,\n",
    "\n",
    "ttd\n",
    "\n",
    "JOKO WIDODO\n",
    "\n",
    "Diundangkan di Jakarta pada tanggal 28 Januari 2019\n",
    "\n",
    "MENTERI HUKUM DAN HAK ASASI MANUSIA REPUBLIK INDONESIA,\n",
    "\n",
    "ttd\n",
    "\n",
    "YASONNA H. LAOLLY\n",
    "```\n",
    "###output:\n",
    "\n",
    "lexid:PP_2019_4 lexid-s:hasEnactionDate \"2019-01-23\"^^xsd:date .\n",
    "lexid:PP_2019_4 lexid-s:hasEnactionLocation lexid:City_Jakarta .\n",
    "lexid:City_Jakarta rdf:type lexid-s:City .\n",
    "lexid:City_Jakarta rdfs:label \"Jakarta\"^^xsd:string .\n",
    "lexid:PP_2019_4 lexid-s:hasEnactionOfficial lexid:Person_Joko_Widodo .\n",
    "lexid:Person_Joko_Widodo rdfs:label \"Joko Widodo\"^^xsd:string .\n",
    "lexid:Person_Joko_Widodo rdf:type lexid-s:Person .\n",
    "lexid:PP_2019_4 lexid-s:hasEnactionOffice lexid:Position_Presiden_Republik_Indonesia .\n",
    "lexid:Position_Presiden_Republik_Indonesia rdfs:label \"Presiden Republik Indonesia\"^^xsd:string .\n",
    "lexid:Position_Presiden_Republik_Indonesia rdf:type lexid-s:Position .\n",
    "lexid:PP_2019_4 lexid-s:hasPromulgationDate \"2019-01-28\"^^xsd:date .\n",
    "lexid:PP_2019_4 lexid-s:hasPromulgationLocation lexid:City_Jakarta .\n",
    "lexid:City_Jakarta rdfs:label \"Jakarta\"^^xsd:string .\n",
    "lexid:PP_2019_4 lexid-s:hasPromulgationOfficial lexid:Person_Yasonna_H_Laolly .\n",
    "lexid:Person_Yasonna_H_Laolly rdfs:label \"Yasonna H Laolly\"^^xsd:string .\n",
    "lexid:Person_Yasonna_H_Laolly rdf:type lexid-s:Person .\n",
    "lexid:PP_2019_4 lexid-s:hasPromulgationOffice lexid:Position_Menteri_Hukum_Dan_Hak_Asasi_Manusia_Republik_Indonesia .\n",
    "lexid:Position_Menteri_Hukum_Dan_Hak_Asasi_Manusia_Republik_Indonesia rdfs:label \"Menteri Hukum Dan Hak Asasi Manusia Republik Indonesia\"^^xsd:string .\n",
    "lexid:Position_Menteri_Hukum_Dan_Hak_Asasi_Manusia_Republik_Indonesia rdf:type lexid-s:Position .\n",
    "lexid:PP_2019_4 lexid-s:hasPromulgationPlace lexid:Lembaran_Negara .\n",
    "\n",
    "###regulatory: lexid:{regulatory}\n",
    "###Teks: \n",
    "```\n",
    "{text}\n",
    "```\n",
    "###output:\n",
    "{triples}\n",
    "\"\"\".strip()\n",
    "\n",
    "def generate_training_text_closing(data_point):\n",
    "    return {\n",
    "        \"prompt\": generate_training_prompt_closing(data_point['regulatory'], data_point['text'], data_point['triples']),\n",
    "    }\n",
    "\n",
    "def process_training_dataset_closing(data: Dataset):\n",
    "    data = (\n",
    "        data.shuffle(seed=42)\n",
    "        .map(generate_training_text_closing)\n",
    "    )\n",
    "\n",
    "    data = data.remove_columns([\"regulatory\", \"text\", \"triples\"])\n",
    "\n",
    "    return data"
   ]
  },
  {
   "cell_type": "code",
   "execution_count": 16,
   "id": "d9812209",
   "metadata": {},
   "outputs": [
    {
     "data": {
      "application/vnd.jupyter.widget-view+json": {
       "model_id": "84e98467de1646be977ea886ff0596a6",
       "version_major": 2,
       "version_minor": 0
      },
      "text/plain": [
       "Map:   0%|          | 0/2695 [00:00<?, ? examples/s]"
      ]
     },
     "metadata": {},
     "output_type": "display_data"
    },
    {
     "name": "stdout",
     "output_type": "stream",
     "text": [
      "Saving at ../dataset-surface-info/prompt/closing/closing-1\n"
     ]
    },
    {
     "data": {
      "application/vnd.jupyter.widget-view+json": {
       "model_id": "970d241f18a8490d961630110c6c5835",
       "version_major": 2,
       "version_minor": 0
      },
      "text/plain": [
       "Saving the dataset (0/1 shards):   0%|          | 0/2695 [00:00<?, ? examples/s]"
      ]
     },
     "metadata": {},
     "output_type": "display_data"
    },
    {
     "data": {
      "application/vnd.jupyter.widget-view+json": {
       "model_id": "743800f453c0476ea0ab72f10fa419a4",
       "version_major": 2,
       "version_minor": 0
      },
      "text/plain": [
       "Map:   0%|          | 0/2695 [00:00<?, ? examples/s]"
      ]
     },
     "metadata": {},
     "output_type": "display_data"
    },
    {
     "name": "stdout",
     "output_type": "stream",
     "text": [
      "Saving at ../dataset-surface-info/prompt/closing/closing-2\n"
     ]
    },
    {
     "data": {
      "application/vnd.jupyter.widget-view+json": {
       "model_id": "99e7aa54836d463ba46a5a8356f204a5",
       "version_major": 2,
       "version_minor": 0
      },
      "text/plain": [
       "Saving the dataset (0/1 shards):   0%|          | 0/2695 [00:00<?, ? examples/s]"
      ]
     },
     "metadata": {},
     "output_type": "display_data"
    },
    {
     "data": {
      "application/vnd.jupyter.widget-view+json": {
       "model_id": "e1012f7b01334238b136922e7422e040",
       "version_major": 2,
       "version_minor": 0
      },
      "text/plain": [
       "Map:   0%|          | 0/2695 [00:00<?, ? examples/s]"
      ]
     },
     "metadata": {},
     "output_type": "display_data"
    },
    {
     "name": "stdout",
     "output_type": "stream",
     "text": [
      "Saving at ../dataset-surface-info/prompt/closing/closing-3\n"
     ]
    },
    {
     "data": {
      "application/vnd.jupyter.widget-view+json": {
       "model_id": "b3e1fc63a3b04c8cb894f5e930a4995c",
       "version_major": 2,
       "version_minor": 0
      },
      "text/plain": [
       "Saving the dataset (0/1 shards):   0%|          | 0/2695 [00:00<?, ? examples/s]"
      ]
     },
     "metadata": {},
     "output_type": "display_data"
    },
    {
     "data": {
      "application/vnd.jupyter.widget-view+json": {
       "model_id": "bac159dc661447b3ac6754470922b847",
       "version_major": 2,
       "version_minor": 0
      },
      "text/plain": [
       "Map:   0%|          | 0/2695 [00:00<?, ? examples/s]"
      ]
     },
     "metadata": {},
     "output_type": "display_data"
    },
    {
     "name": "stdout",
     "output_type": "stream",
     "text": [
      "Saving at ../dataset-surface-info/prompt/closing/closing-4\n"
     ]
    },
    {
     "data": {
      "application/vnd.jupyter.widget-view+json": {
       "model_id": "771ab33baa3f483395188a9dfdd67eb9",
       "version_major": 2,
       "version_minor": 0
      },
      "text/plain": [
       "Saving the dataset (0/1 shards):   0%|          | 0/2695 [00:00<?, ? examples/s]"
      ]
     },
     "metadata": {},
     "output_type": "display_data"
    },
    {
     "data": {
      "application/vnd.jupyter.widget-view+json": {
       "model_id": "ecca2660e7394d5c90559866d2915037",
       "version_major": 2,
       "version_minor": 0
      },
      "text/plain": [
       "Map:   0%|          | 0/2695 [00:00<?, ? examples/s]"
      ]
     },
     "metadata": {},
     "output_type": "display_data"
    },
    {
     "name": "stdout",
     "output_type": "stream",
     "text": [
      "Saving at ../dataset-surface-info/prompt/closing/closing-5\n"
     ]
    },
    {
     "data": {
      "application/vnd.jupyter.widget-view+json": {
       "model_id": "f626d53f73054e1cbeee14467ec83ce7",
       "version_major": 2,
       "version_minor": 0
      },
      "text/plain": [
       "Saving the dataset (0/1 shards):   0%|          | 0/2695 [00:00<?, ? examples/s]"
      ]
     },
     "metadata": {},
     "output_type": "display_data"
    },
    {
     "data": {
      "application/vnd.jupyter.widget-view+json": {
       "model_id": "03c6e073b71145bfabe06b5c5ccb1152",
       "version_major": 2,
       "version_minor": 0
      },
      "text/plain": [
       "Map:   0%|          | 0/2695 [00:00<?, ? examples/s]"
      ]
     },
     "metadata": {},
     "output_type": "display_data"
    },
    {
     "name": "stdout",
     "output_type": "stream",
     "text": [
      "Saving at ../dataset-surface-info/prompt/closing/closing-6\n"
     ]
    },
    {
     "data": {
      "application/vnd.jupyter.widget-view+json": {
       "model_id": "a89e653b3fef4235a4a03441d357018d",
       "version_major": 2,
       "version_minor": 0
      },
      "text/plain": [
       "Saving the dataset (0/1 shards):   0%|          | 0/2695 [00:00<?, ? examples/s]"
      ]
     },
     "metadata": {},
     "output_type": "display_data"
    },
    {
     "data": {
      "application/vnd.jupyter.widget-view+json": {
       "model_id": "aa5fe07c7ec844a3aed487d3c67ce2fd",
       "version_major": 2,
       "version_minor": 0
      },
      "text/plain": [
       "Map:   0%|          | 0/2695 [00:00<?, ? examples/s]"
      ]
     },
     "metadata": {},
     "output_type": "display_data"
    },
    {
     "name": "stdout",
     "output_type": "stream",
     "text": [
      "Saving at ../dataset-surface-info/prompt/closing/closing-7\n"
     ]
    },
    {
     "data": {
      "application/vnd.jupyter.widget-view+json": {
       "model_id": "65dcc6cde00a4c068558ec91677ca3de",
       "version_major": 2,
       "version_minor": 0
      },
      "text/plain": [
       "Saving the dataset (0/1 shards):   0%|          | 0/2695 [00:00<?, ? examples/s]"
      ]
     },
     "metadata": {},
     "output_type": "display_data"
    },
    {
     "data": {
      "application/vnd.jupyter.widget-view+json": {
       "model_id": "3233511ff76f43d09e2867ed03eae81d",
       "version_major": 2,
       "version_minor": 0
      },
      "text/plain": [
       "Map:   0%|          | 0/2695 [00:00<?, ? examples/s]"
      ]
     },
     "metadata": {},
     "output_type": "display_data"
    },
    {
     "name": "stdout",
     "output_type": "stream",
     "text": [
      "Saving at ../dataset-surface-info/prompt/closing/closing-8\n"
     ]
    },
    {
     "data": {
      "application/vnd.jupyter.widget-view+json": {
       "model_id": "e45b096cbf104fa0a8289ff5c44bf8c3",
       "version_major": 2,
       "version_minor": 0
      },
      "text/plain": [
       "Saving the dataset (0/1 shards):   0%|          | 0/2695 [00:00<?, ? examples/s]"
      ]
     },
     "metadata": {},
     "output_type": "display_data"
    },
    {
     "data": {
      "application/vnd.jupyter.widget-view+json": {
       "model_id": "19d7497bc816450f8a0c4b560f0752fb",
       "version_major": 2,
       "version_minor": 0
      },
      "text/plain": [
       "Map:   0%|          | 0/16 [00:00<?, ? examples/s]"
      ]
     },
     "metadata": {},
     "output_type": "display_data"
    },
    {
     "name": "stdout",
     "output_type": "stream",
     "text": [
      "Saving at ../dataset-surface-info/prompt/closing/closing-9\n"
     ]
    },
    {
     "data": {
      "application/vnd.jupyter.widget-view+json": {
       "model_id": "ec7443d4ff1e4206ac101c4a39db10ee",
       "version_major": 2,
       "version_minor": 0
      },
      "text/plain": [
       "Saving the dataset (0/1 shards):   0%|          | 0/16 [00:00<?, ? examples/s]"
      ]
     },
     "metadata": {},
     "output_type": "display_data"
    }
   ],
   "source": [
    "for i in range(1,10):\n",
    "    closing_dataset_name = f\"../dataset-surface-info/closing/closing-{i}\"\n",
    "    closing_dataset = load_from_disk(closing_dataset_name)\n",
    "    processed_closing_dataset = process_dataset_closing(closing_dataset)\n",
    "\n",
    "    target_file = f\"../dataset-surface-info/prompt/closing/closing-{i}\"\n",
    "    print(f'Saving at ../dataset-surface-info/prompt/closing/closing-{i}')\n",
    "    processed_closing_dataset.save_to_disk(target_file)"
   ]
  },
  {
   "cell_type": "code",
   "execution_count": 17,
   "id": "fee4b789",
   "metadata": {},
   "outputs": [
    {
     "data": {
      "application/vnd.jupyter.widget-view+json": {
       "model_id": "9194e8892183420897ea0da66483edef",
       "version_major": 2,
       "version_minor": 0
      },
      "text/plain": [
       "Map:   0%|          | 0/2158 [00:00<?, ? examples/s]"
      ]
     },
     "metadata": {},
     "output_type": "display_data"
    },
    {
     "name": "stdout",
     "output_type": "stream",
     "text": [
      "Saving at ../dataset-surface-info/prompt/closing/closing-test\n"
     ]
    },
    {
     "data": {
      "application/vnd.jupyter.widget-view+json": {
       "model_id": "c2823d94ffec410aaf6fd5eff5e05ea8",
       "version_major": 2,
       "version_minor": 0
      },
      "text/plain": [
       "Saving the dataset (0/1 shards):   0%|          | 0/2158 [00:00<?, ? examples/s]"
      ]
     },
     "metadata": {},
     "output_type": "display_data"
    },
    {
     "data": {
      "application/vnd.jupyter.widget-view+json": {
       "model_id": "9b93af736d8b4841a370821c9d2790e0",
       "version_major": 2,
       "version_minor": 0
      },
      "text/plain": [
       "Map:   0%|          | 0/2158 [00:00<?, ? examples/s]"
      ]
     },
     "metadata": {},
     "output_type": "display_data"
    },
    {
     "name": "stdout",
     "output_type": "stream",
     "text": [
      "Saving at ../dataset-surface-info/prompt/closing/closing-val\n"
     ]
    },
    {
     "data": {
      "application/vnd.jupyter.widget-view+json": {
       "model_id": "3415931f9690491b965885395889e0cb",
       "version_major": 2,
       "version_minor": 0
      },
      "text/plain": [
       "Saving the dataset (0/1 shards):   0%|          | 0/2158 [00:00<?, ? examples/s]"
      ]
     },
     "metadata": {},
     "output_type": "display_data"
    }
   ],
   "source": [
    "lst = ['test', 'val']\n",
    "\n",
    "for i in lst:\n",
    "    closing_dataset_name = f\"../dataset-surface-info/closing/closing-{i}\"\n",
    "    closing_dataset = load_from_disk(closing_dataset_name)\n",
    "    processed_closing_dataset = process_dataset_closing(closing_dataset)\n",
    "\n",
    "    target_file = f\"../dataset-surface-info/prompt/closing/closing-{i}\"\n",
    "    print(f'Saving at ../dataset-surface-info/prompt/closing/closing-{i}')\n",
    "    processed_closing_dataset.save_to_disk(target_file)"
   ]
  },
  {
   "cell_type": "code",
   "execution_count": 18,
   "id": "d1f0c04e",
   "metadata": {},
   "outputs": [
    {
     "data": {
      "application/vnd.jupyter.widget-view+json": {
       "model_id": "eefd306a64cf42ad9475131e0843fd84",
       "version_major": 2,
       "version_minor": 0
      },
      "text/plain": [
       "Map:   0%|          | 0/17260 [00:00<?, ? examples/s]"
      ]
     },
     "metadata": {},
     "output_type": "display_data"
    },
    {
     "name": "stdout",
     "output_type": "stream",
     "text": [
      "Saving at ../dataset-surface-info/prompt/closing/closing-train\n"
     ]
    },
    {
     "data": {
      "application/vnd.jupyter.widget-view+json": {
       "model_id": "26da771a25454337ad92cad51ce6db2a",
       "version_major": 2,
       "version_minor": 0
      },
      "text/plain": [
       "Saving the dataset (0/1 shards):   0%|          | 0/17260 [00:00<?, ? examples/s]"
      ]
     },
     "metadata": {},
     "output_type": "display_data"
    }
   ],
   "source": [
    "lst = ['train']\n",
    "\n",
    "for i in lst:\n",
    "    closing_dataset_name = f\"../dataset-surface-info/closing/closing-{i}\"\n",
    "    closing_dataset = load_from_disk(closing_dataset_name)\n",
    "    processed_closing_dataset = process_dataset_closing(closing_dataset)\n",
    "\n",
    "    target_file = f\"../dataset-surface-info/prompt/closing/closing-{i}\"\n",
    "    print(f'Saving at ../dataset-surface-info/prompt/closing/closing-{i}')\n",
    "    processed_closing_dataset.save_to_disk(target_file)"
   ]
  },
  {
   "cell_type": "code",
   "execution_count": null,
   "id": "6d1df58f",
   "metadata": {},
   "outputs": [],
   "source": []
  }
 ],
 "metadata": {
  "kernelspec": {
   "display_name": "Python 3 (ipykernel)",
   "language": "python",
   "name": "python3"
  },
  "language_info": {
   "codemirror_mode": {
    "name": "ipython",
    "version": 3
   },
   "file_extension": ".py",
   "mimetype": "text/x-python",
   "name": "python",
   "nbconvert_exporter": "python",
   "pygments_lexer": "ipython3",
   "version": "3.10.12"
  }
 },
 "nbformat": 4,
 "nbformat_minor": 5
}
