{
 "cells": [
  {
   "cell_type": "code",
   "execution_count": 1,
   "id": "f71af049",
   "metadata": {},
   "outputs": [],
   "source": [
    "import os\n",
    "os.environ['CUDA_VISIBLE_DEVICES'] = '1'"
   ]
  },
  {
   "cell_type": "code",
   "execution_count": 5,
   "id": "6be0983e",
   "metadata": {},
   "outputs": [
    {
     "name": "stdout",
     "output_type": "stream",
     "text": [
      "Looking in indexes: https://pypi.org/simple, https://pypi.ngc.nvidia.com\n",
      "Collecting sentencepiece\n",
      "  Downloading sentencepiece-0.2.0-cp310-cp310-manylinux_2_17_x86_64.manylinux2014_x86_64.whl.metadata (7.7 kB)\n",
      "Downloading sentencepiece-0.2.0-cp310-cp310-manylinux_2_17_x86_64.manylinux2014_x86_64.whl (1.3 MB)\n",
      "\u001b[2K   \u001b[90m━━━━━━━━━━━━━━━━━━━━━━━━━━━━━━━━━━━━━━━━\u001b[0m \u001b[32m1.3/1.3 MB\u001b[0m \u001b[31m15.7 MB/s\u001b[0m eta \u001b[36m0:00:00\u001b[0m \u001b[36m0:00:01\u001b[0m\n",
      "\u001b[?25hInstalling collected packages: sentencepiece\n",
      "Successfully installed sentencepiece-0.2.0\n",
      "\u001b[33mWARNING: Running pip as the 'root' user can result in broken permissions and conflicting behaviour with the system package manager. It is recommended to use a virtual environment instead: https://pip.pypa.io/warnings/venv\u001b[0m\u001b[33m\n",
      "\u001b[0m"
     ]
    }
   ],
   "source": [
    "!pip install transformers\n",
    "!pip install sentencepiece"
   ]
  },
  {
   "cell_type": "code",
   "execution_count": 6,
   "id": "b308e74a",
   "metadata": {},
   "outputs": [
    {
     "name": "stderr",
     "output_type": "stream",
     "text": [
      "A new version of the following files was downloaded from https://huggingface.co/aisingapore/sea-lion-3b:\n",
      "- configuration_mpt.py\n",
      ". Make sure to double-check they do not contain any added malicious code. To avoid downloading new versions of the code file, you can pin a revision.\n",
      "A new version of the following files was downloaded from https://huggingface.co/aisingapore/sea-lion-3b:\n",
      "- fc.py\n",
      ". Make sure to double-check they do not contain any added malicious code. To avoid downloading new versions of the code file, you can pin a revision.\n",
      "A new version of the following files was downloaded from https://huggingface.co/aisingapore/sea-lion-3b:\n",
      "- ffn.py\n",
      "- fc.py\n",
      ". Make sure to double-check they do not contain any added malicious code. To avoid downloading new versions of the code file, you can pin a revision.\n",
      "A new version of the following files was downloaded from https://huggingface.co/aisingapore/sea-lion-3b:\n",
      "- meta_init_context.py\n",
      ". Make sure to double-check they do not contain any added malicious code. To avoid downloading new versions of the code file, you can pin a revision.\n",
      "A new version of the following files was downloaded from https://huggingface.co/aisingapore/sea-lion-3b:\n",
      "- norm.py\n",
      ". Make sure to double-check they do not contain any added malicious code. To avoid downloading new versions of the code file, you can pin a revision.\n",
      "A new version of the following files was downloaded from https://huggingface.co/aisingapore/sea-lion-3b:\n",
      "- flash_attn_triton.py\n",
      ". Make sure to double-check they do not contain any added malicious code. To avoid downloading new versions of the code file, you can pin a revision.\n",
      "A new version of the following files was downloaded from https://huggingface.co/aisingapore/sea-lion-3b:\n",
      "- attention.py\n",
      "- flash_attn_triton.py\n",
      ". Make sure to double-check they do not contain any added malicious code. To avoid downloading new versions of the code file, you can pin a revision.\n",
      "A new version of the following files was downloaded from https://huggingface.co/aisingapore/sea-lion-3b:\n",
      "- blocks.py\n",
      "- norm.py\n",
      "- attention.py\n",
      ". Make sure to double-check they do not contain any added malicious code. To avoid downloading new versions of the code file, you can pin a revision.\n",
      "A new version of the following files was downloaded from https://huggingface.co/aisingapore/sea-lion-3b:\n",
      "- adapt_tokenizer.py\n",
      ". Make sure to double-check they do not contain any added malicious code. To avoid downloading new versions of the code file, you can pin a revision.\n",
      "A new version of the following files was downloaded from https://huggingface.co/aisingapore/sea-lion-3b:\n",
      "- hf_prefixlm_converter.py\n",
      ". Make sure to double-check they do not contain any added malicious code. To avoid downloading new versions of the code file, you can pin a revision.\n",
      "A new version of the following files was downloaded from https://huggingface.co/aisingapore/sea-lion-3b:\n",
      "- custom_embedding.py\n",
      ". Make sure to double-check they do not contain any added malicious code. To avoid downloading new versions of the code file, you can pin a revision.\n",
      "A new version of the following files was downloaded from https://huggingface.co/aisingapore/sea-lion-3b:\n",
      "- param_init_fns.py\n",
      ". Make sure to double-check they do not contain any added malicious code. To avoid downloading new versions of the code file, you can pin a revision.\n",
      "A new version of the following files was downloaded from https://huggingface.co/aisingapore/sea-lion-3b:\n",
      "- modeling_mpt.py\n",
      "- ffn.py\n",
      "- meta_init_context.py\n",
      "- blocks.py\n",
      "- adapt_tokenizer.py\n",
      "- hf_prefixlm_converter.py\n",
      "- custom_embedding.py\n",
      "- param_init_fns.py\n",
      ". Make sure to double-check they do not contain any added malicious code. To avoid downloading new versions of the code file, you can pin a revision.\n"
     ]
    }
   ],
   "source": [
    "# Please use transformers==4.34.1\n",
    "from transformers import AutoModelForCausalLM, AutoTokenizer\n",
    "\n",
    "generation_kwargs = {\n",
    "    \"do_sample\": False,  # set to true if temperature is not 0\n",
    "    \"temperature\": None,\n",
    "    \"max_new_tokens\": 256,\n",
    "    \"top_k\": 50,\n",
    "    \"top_p\": 0.7,\n",
    "    \"repetition_penalty\": 1.2,\n",
    "}\n",
    "\n",
    "tokenizer = AutoTokenizer.from_pretrained(\"aisingapore/sea-lion-3b\", trust_remote_code=True)\n",
    "\n",
    "generation_kwargs[\"eos_token_id\"] = tokenizer.eos_token_id\n",
    "\n",
    "model = AutoModelForCausalLM.from_pretrained(\"aisingapore/sea-lion-3b\", trust_remote_code=True)"
   ]
  },
  {
   "cell_type": "code",
   "execution_count": null,
   "id": "9771d025",
   "metadata": {},
   "outputs": [],
   "source": [
    "prompt_template = \"### USER:\\n{human_prompt}\\n\\n### RESPONSE:\\n\"\n",
    "prompt = \"\"\"Apa sentimen dari kalimat berikut ini?\n",
    "Kalimat: Buku ini sangat membosankan.\n",
    "Jawaban: \"\"\"\n",
    "full_prompt = prompt_template.format(human_prompt=prompt)\n",
    "\n",
    "tokens = tokenizer(full_prompt, return_tensors=\"pt\")\n",
    "\n",
    "# Remove unneeded kwargs\n",
    "if generation_kwargs[\"do_sample\"] == False:\n",
    "    generation_kwargs.pop(\"temperature\")\n",
    "    generation_kwargs.pop(\"top_k\")\n",
    "    generation_kwargs.pop(\"top_p\")\n",
    "\n",
    "output = model.generate(\n",
    "    tokens[\"input_ids\"],\n",
    "    **generation_kwargs,\n",
    ")\n",
    "print(tokenizer.decode(output[0], skip_special_tokens=True))"
   ]
  }
 ],
 "metadata": {
  "kernelspec": {
   "display_name": "Python 3 (ipykernel)",
   "language": "python",
   "name": "python3"
  },
  "language_info": {
   "codemirror_mode": {
    "name": "ipython",
    "version": 3
   },
   "file_extension": ".py",
   "mimetype": "text/x-python",
   "name": "python",
   "nbconvert_exporter": "python",
   "pygments_lexer": "ipython3",
   "version": "3.10.12"
  }
 },
 "nbformat": 4,
 "nbformat_minor": 5
}
