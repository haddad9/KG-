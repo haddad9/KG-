{
 "cells": [
  {
   "cell_type": "code",
   "execution_count": 1,
   "id": "36d848b5",
   "metadata": {},
   "outputs": [],
   "source": [
    "from datasets import load_from_disk\n",
    "from datasets import Dataset"
   ]
  },
  {
   "cell_type": "code",
   "execution_count": 11,
   "id": "748887c6",
   "metadata": {},
   "outputs": [],
   "source": [
    "train_dataset_name = '../dataset/processed_dataset/dataset_10'\n",
    "train_dataset = load_from_disk(train_dataset_name).to_pandas()"
   ]
  },
  {
   "cell_type": "code",
   "execution_count": 12,
   "id": "79d27131",
   "metadata": {},
   "outputs": [
    {
     "name": "stdout",
     "output_type": "stream",
     "text": [
      "0    Instruksi:\\nBuatkan triples RDF dalam format ....\n",
      "Name: prompt, dtype: object\n"
     ]
    }
   ],
   "source": [
    "print(train_dataset.head(1)['prompt'])"
   ]
  }
 ],
 "metadata": {
  "kernelspec": {
   "display_name": "Python 3 (ipykernel)",
   "language": "python",
   "name": "python3"
  },
  "language_info": {
   "codemirror_mode": {
    "name": "ipython",
    "version": 3
   },
   "file_extension": ".py",
   "mimetype": "text/x-python",
   "name": "python",
   "nbconvert_exporter": "python",
   "pygments_lexer": "ipython3",
   "version": "3.10.12"
  }
 },
 "nbformat": 4,
 "nbformat_minor": 5
}
